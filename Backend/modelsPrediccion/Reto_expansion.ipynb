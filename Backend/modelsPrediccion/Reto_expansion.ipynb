{
  "cells": [
    {
      "cell_type": "code",
      "execution_count": null,
      "metadata": {
        "colab": {
          "base_uri": "https://localhost:8080/"
        },
        "id": "ZFJ7RldLjlsa",
        "outputId": "38d01296-574e-4982-b1cb-d7902503016f"
      },
      "outputs": [],
      "source": []
    },
    {
      "cell_type": "code",
      "execution_count": 45,
      "metadata": {
        "id": "NMzPvBEkjt0I"
      },
      "outputs": [],
      "source": [
        "import pandas as pd\n",
        "import numpy as np"
      ]
    },
    {
      "cell_type": "code",
      "execution_count": 46,
      "metadata": {
        "id": "XxI6FlEXjxVM"
      },
      "outputs": [],
      "source": [
        "df=pd.read_csv('merged_limpio.csv')"
      ]
    },
    {
      "cell_type": "code",
      "execution_count": 47,
      "metadata": {
        "colab": {
          "base_uri": "https://localhost:8080/",
          "height": 310
        },
        "id": "7fgkOGKIj0qJ",
        "outputId": "d9725fe2-745b-4f52-f9aa-53a9bee4c14d"
      },
      "outputs": [
        {
          "data": {
            "text/html": [
              "<div>\n",
              "<style scoped>\n",
              "    .dataframe tbody tr th:only-of-type {\n",
              "        vertical-align: middle;\n",
              "    }\n",
              "\n",
              "    .dataframe tbody tr th {\n",
              "        vertical-align: top;\n",
              "    }\n",
              "\n",
              "    .dataframe thead th {\n",
              "        text-align: right;\n",
              "    }\n",
              "</style>\n",
              "<table border=\"1\" class=\"dataframe\">\n",
              "  <thead>\n",
              "    <tr style=\"text-align: right;\">\n",
              "      <th></th>\n",
              "      <th>Año</th>\n",
              "      <th>Mes</th>\n",
              "      <th>ID Cliente</th>\n",
              "      <th>Tamaño de Cliente</th>\n",
              "      <th>Categoría</th>\n",
              "      <th>Producto</th>\n",
              "      <th>Sum of Venta USD</th>\n",
              "      <th>Sum of Venta Cajas</th>\n",
              "    </tr>\n",
              "  </thead>\n",
              "  <tbody>\n",
              "    <tr>\n",
              "      <th>0</th>\n",
              "      <td>2022</td>\n",
              "      <td>Diciembre</td>\n",
              "      <td>1</td>\n",
              "      <td>MICRO</td>\n",
              "      <td>BEBIDAS DE FRUTA</td>\n",
              "      <td>JDV Nrja Choice 300ml NR Pet 12B</td>\n",
              "      <td>2.550</td>\n",
              "      <td>1.0</td>\n",
              "    </tr>\n",
              "    <tr>\n",
              "      <th>1</th>\n",
              "      <td>2022</td>\n",
              "      <td>Diciembre</td>\n",
              "      <td>1</td>\n",
              "      <td>MICRO</td>\n",
              "      <td>BEBIDAS DE FRUTA</td>\n",
              "      <td>JDV Nrja Choice 950 ml NR Pet 12B</td>\n",
              "      <td>3.345</td>\n",
              "      <td>2.0</td>\n",
              "    </tr>\n",
              "    <tr>\n",
              "      <th>2</th>\n",
              "      <td>2022</td>\n",
              "      <td>Diciembre</td>\n",
              "      <td>1</td>\n",
              "      <td>MICRO</td>\n",
              "      <td>COLAS</td>\n",
              "      <td>Coca-Cola 300 ml NR Pet 12B</td>\n",
              "      <td>7.185</td>\n",
              "      <td>1.0</td>\n",
              "    </tr>\n",
              "    <tr>\n",
              "      <th>3</th>\n",
              "      <td>2022</td>\n",
              "      <td>Diciembre</td>\n",
              "      <td>1</td>\n",
              "      <td>MICRO</td>\n",
              "      <td>COLAS</td>\n",
              "      <td>Coca-Cola E 1.35 Lts NR Pet 12B</td>\n",
              "      <td>9.690</td>\n",
              "      <td>2.0</td>\n",
              "    </tr>\n",
              "    <tr>\n",
              "      <th>4</th>\n",
              "      <td>2022</td>\n",
              "      <td>Diciembre</td>\n",
              "      <td>1</td>\n",
              "      <td>MICRO</td>\n",
              "      <td>COLAS</td>\n",
              "      <td>Coca-Cola E 3 Lts NR 6B</td>\n",
              "      <td>19.050</td>\n",
              "      <td>4.0</td>\n",
              "    </tr>\n",
              "  </tbody>\n",
              "</table>\n",
              "</div>"
            ],
            "text/plain": [
              "    Año        Mes  ID Cliente Tamaño de Cliente         Categoría  \\\n",
              "0  2022  Diciembre           1             MICRO  BEBIDAS DE FRUTA   \n",
              "1  2022  Diciembre           1             MICRO  BEBIDAS DE FRUTA   \n",
              "2  2022  Diciembre           1             MICRO             COLAS   \n",
              "3  2022  Diciembre           1             MICRO             COLAS   \n",
              "4  2022  Diciembre           1             MICRO             COLAS   \n",
              "\n",
              "                            Producto  Sum of Venta USD  Sum of Venta Cajas  \n",
              "0   JDV Nrja Choice 300ml NR Pet 12B             2.550                 1.0  \n",
              "1  JDV Nrja Choice 950 ml NR Pet 12B             3.345                 2.0  \n",
              "2        Coca-Cola 300 ml NR Pet 12B             7.185                 1.0  \n",
              "3    Coca-Cola E 1.35 Lts NR Pet 12B             9.690                 2.0  \n",
              "4            Coca-Cola E 3 Lts NR 6B            19.050                 4.0  "
            ]
          },
          "execution_count": 47,
          "metadata": {},
          "output_type": "execute_result"
        }
      ],
      "source": [
        "df.head()"
      ]
    },
    {
      "cell_type": "code",
      "execution_count": 48,
      "metadata": {
        "colab": {
          "base_uri": "https://localhost:8080/",
          "height": 327
        },
        "id": "t-1Dmf27j3YF",
        "outputId": "1b67e225-ff88-4cc6-ad8f-c74b993a6f0d"
      },
      "outputs": [
        {
          "data": {
            "text/html": [
              "<div>\n",
              "<style scoped>\n",
              "    .dataframe tbody tr th:only-of-type {\n",
              "        vertical-align: middle;\n",
              "    }\n",
              "\n",
              "    .dataframe tbody tr th {\n",
              "        vertical-align: top;\n",
              "    }\n",
              "\n",
              "    .dataframe thead th {\n",
              "        text-align: right;\n",
              "    }\n",
              "</style>\n",
              "<table border=\"1\" class=\"dataframe\">\n",
              "  <thead>\n",
              "    <tr style=\"text-align: right;\">\n",
              "      <th></th>\n",
              "      <th>Año</th>\n",
              "      <th>ID Cliente</th>\n",
              "      <th>Tamaño de Cliente</th>\n",
              "      <th>Categoría</th>\n",
              "      <th>Producto</th>\n",
              "      <th>Sum of Venta USD</th>\n",
              "      <th>Sum of Venta Cajas</th>\n",
              "      <th>Mes_num</th>\n",
              "      <th>Fecha</th>\n",
              "    </tr>\n",
              "  </thead>\n",
              "  <tbody>\n",
              "    <tr>\n",
              "      <th>0</th>\n",
              "      <td>2022</td>\n",
              "      <td>1</td>\n",
              "      <td>MICRO</td>\n",
              "      <td>BEBIDAS DE FRUTA</td>\n",
              "      <td>JDV Nrja Choice 300ml NR Pet 12B</td>\n",
              "      <td>2.550</td>\n",
              "      <td>1.0</td>\n",
              "      <td>12</td>\n",
              "      <td>2022-12-01</td>\n",
              "    </tr>\n",
              "    <tr>\n",
              "      <th>1</th>\n",
              "      <td>2022</td>\n",
              "      <td>1</td>\n",
              "      <td>MICRO</td>\n",
              "      <td>BEBIDAS DE FRUTA</td>\n",
              "      <td>JDV Nrja Choice 950 ml NR Pet 12B</td>\n",
              "      <td>3.345</td>\n",
              "      <td>2.0</td>\n",
              "      <td>12</td>\n",
              "      <td>2022-12-01</td>\n",
              "    </tr>\n",
              "    <tr>\n",
              "      <th>2</th>\n",
              "      <td>2022</td>\n",
              "      <td>1</td>\n",
              "      <td>MICRO</td>\n",
              "      <td>COLAS</td>\n",
              "      <td>Coca-Cola 300 ml NR Pet 12B</td>\n",
              "      <td>7.185</td>\n",
              "      <td>1.0</td>\n",
              "      <td>12</td>\n",
              "      <td>2022-12-01</td>\n",
              "    </tr>\n",
              "    <tr>\n",
              "      <th>3</th>\n",
              "      <td>2022</td>\n",
              "      <td>1</td>\n",
              "      <td>MICRO</td>\n",
              "      <td>COLAS</td>\n",
              "      <td>Coca-Cola E 1.35 Lts NR Pet 12B</td>\n",
              "      <td>9.690</td>\n",
              "      <td>2.0</td>\n",
              "      <td>12</td>\n",
              "      <td>2022-12-01</td>\n",
              "    </tr>\n",
              "    <tr>\n",
              "      <th>4</th>\n",
              "      <td>2022</td>\n",
              "      <td>1</td>\n",
              "      <td>MICRO</td>\n",
              "      <td>COLAS</td>\n",
              "      <td>Coca-Cola E 3 Lts NR 6B</td>\n",
              "      <td>19.050</td>\n",
              "      <td>4.0</td>\n",
              "      <td>12</td>\n",
              "      <td>2022-12-01</td>\n",
              "    </tr>\n",
              "  </tbody>\n",
              "</table>\n",
              "</div>"
            ],
            "text/plain": [
              "    Año  ID Cliente Tamaño de Cliente         Categoría  \\\n",
              "0  2022           1             MICRO  BEBIDAS DE FRUTA   \n",
              "1  2022           1             MICRO  BEBIDAS DE FRUTA   \n",
              "2  2022           1             MICRO             COLAS   \n",
              "3  2022           1             MICRO             COLAS   \n",
              "4  2022           1             MICRO             COLAS   \n",
              "\n",
              "                            Producto  Sum of Venta USD  Sum of Venta Cajas  \\\n",
              "0   JDV Nrja Choice 300ml NR Pet 12B             2.550                 1.0   \n",
              "1  JDV Nrja Choice 950 ml NR Pet 12B             3.345                 2.0   \n",
              "2        Coca-Cola 300 ml NR Pet 12B             7.185                 1.0   \n",
              "3    Coca-Cola E 1.35 Lts NR Pet 12B             9.690                 2.0   \n",
              "4            Coca-Cola E 3 Lts NR 6B            19.050                 4.0   \n",
              "\n",
              "   Mes_num      Fecha  \n",
              "0       12 2022-12-01  \n",
              "1       12 2022-12-01  \n",
              "2       12 2022-12-01  \n",
              "3       12 2022-12-01  \n",
              "4       12 2022-12-01  "
            ]
          },
          "execution_count": 48,
          "metadata": {},
          "output_type": "execute_result"
        }
      ],
      "source": [
        "# Diccionario para convertir nombre del mes a número\n",
        "meses_dict = {\n",
        "    'Enero': 1, 'Febrero': 2, 'Marzo': 3, 'Abril': 4,\n",
        "    'Mayo': 5, 'Junio': 6, 'Julio': 7, 'Agosto': 8,\n",
        "    'Septiembre': 9, 'Octubre': 10, 'Noviembre': 11, 'Diciembre': 12\n",
        "}\n",
        "\n",
        "# Crear columna de número de mes\n",
        "df['Mes_num'] = df['Mes'].map(meses_dict)\n",
        "\n",
        "# Crear columna de fecha (asignando día 1 para cada mes)\n",
        "df['Fecha'] = pd.to_datetime(df['Año'].astype(str) + '-' + df['Mes_num'].astype(str) + '-01')\n",
        "\n",
        "df.drop('Mes', axis=1, inplace=True)\n",
        "df.head()"
      ]
    },
    {
      "cell_type": "code",
      "execution_count": 49,
      "metadata": {
        "id": "ZzXCXVfQl3Va"
      },
      "outputs": [],
      "source": [
        "from sklearn.preprocessing import LabelEncoder\n",
        "\n",
        "le_tam = LabelEncoder()\n",
        "le_cat = LabelEncoder()\n",
        "le_prod = LabelEncoder()\n",
        "\n",
        "df[\"Tamaño de Cliente_encoded\"] = le_tam.fit_transform(df[\"Tamaño de Cliente\"])\n",
        "df[\"Categoría_encoded\"] = le_cat.fit_transform(df[\"Categoría\"])\n",
        "df[\"Producto_encoded\"] = le_prod.fit_transform(df[\"Producto\"])\n"
      ]
    },
    {
      "cell_type": "code",
      "execution_count": 50,
      "metadata": {
        "colab": {
          "base_uri": "https://localhost:8080/",
          "height": 556
        },
        "id": "nc3svE7kmK_L",
        "outputId": "5daaecf1-7f11-4350-b390-d10caaf253d9"
      },
      "outputs": [
        {
          "data": {
            "text/html": [
              "<div>\n",
              "<style scoped>\n",
              "    .dataframe tbody tr th:only-of-type {\n",
              "        vertical-align: middle;\n",
              "    }\n",
              "\n",
              "    .dataframe tbody tr th {\n",
              "        vertical-align: top;\n",
              "    }\n",
              "\n",
              "    .dataframe thead th {\n",
              "        text-align: right;\n",
              "    }\n",
              "</style>\n",
              "<table border=\"1\" class=\"dataframe\">\n",
              "  <thead>\n",
              "    <tr style=\"text-align: right;\">\n",
              "      <th></th>\n",
              "      <th>Año</th>\n",
              "      <th>ID Cliente</th>\n",
              "      <th>Tamaño de Cliente</th>\n",
              "      <th>Categoría</th>\n",
              "      <th>Producto</th>\n",
              "      <th>Sum of Venta USD</th>\n",
              "      <th>Sum of Venta Cajas</th>\n",
              "      <th>Mes_num</th>\n",
              "      <th>Fecha</th>\n",
              "      <th>Tamaño de Cliente_encoded</th>\n",
              "      <th>Categoría_encoded</th>\n",
              "      <th>Producto_encoded</th>\n",
              "    </tr>\n",
              "  </thead>\n",
              "  <tbody>\n",
              "    <tr>\n",
              "      <th>0</th>\n",
              "      <td>2022</td>\n",
              "      <td>1</td>\n",
              "      <td>MICRO</td>\n",
              "      <td>BEBIDAS DE FRUTA</td>\n",
              "      <td>JDV Nrja Choice 300ml NR Pet 12B</td>\n",
              "      <td>2.550</td>\n",
              "      <td>1.0</td>\n",
              "      <td>12</td>\n",
              "      <td>2022-12-01</td>\n",
              "      <td>4</td>\n",
              "      <td>2</td>\n",
              "      <td>150</td>\n",
              "    </tr>\n",
              "    <tr>\n",
              "      <th>1</th>\n",
              "      <td>2022</td>\n",
              "      <td>1</td>\n",
              "      <td>MICRO</td>\n",
              "      <td>BEBIDAS DE FRUTA</td>\n",
              "      <td>JDV Nrja Choice 950 ml NR Pet 12B</td>\n",
              "      <td>3.345</td>\n",
              "      <td>2.0</td>\n",
              "      <td>12</td>\n",
              "      <td>2022-12-01</td>\n",
              "      <td>4</td>\n",
              "      <td>2</td>\n",
              "      <td>152</td>\n",
              "    </tr>\n",
              "    <tr>\n",
              "      <th>2</th>\n",
              "      <td>2022</td>\n",
              "      <td>1</td>\n",
              "      <td>MICRO</td>\n",
              "      <td>COLAS</td>\n",
              "      <td>Coca-Cola 300 ml NR Pet 12B</td>\n",
              "      <td>7.185</td>\n",
              "      <td>1.0</td>\n",
              "      <td>12</td>\n",
              "      <td>2022-12-01</td>\n",
              "      <td>4</td>\n",
              "      <td>4</td>\n",
              "      <td>5</td>\n",
              "    </tr>\n",
              "    <tr>\n",
              "      <th>3</th>\n",
              "      <td>2022</td>\n",
              "      <td>1</td>\n",
              "      <td>MICRO</td>\n",
              "      <td>COLAS</td>\n",
              "      <td>Coca-Cola E 1.35 Lts NR Pet 12B</td>\n",
              "      <td>9.690</td>\n",
              "      <td>2.0</td>\n",
              "      <td>12</td>\n",
              "      <td>2022-12-01</td>\n",
              "      <td>4</td>\n",
              "      <td>4</td>\n",
              "      <td>10</td>\n",
              "    </tr>\n",
              "    <tr>\n",
              "      <th>4</th>\n",
              "      <td>2022</td>\n",
              "      <td>1</td>\n",
              "      <td>MICRO</td>\n",
              "      <td>COLAS</td>\n",
              "      <td>Coca-Cola E 3 Lts NR 6B</td>\n",
              "      <td>19.050</td>\n",
              "      <td>4.0</td>\n",
              "      <td>12</td>\n",
              "      <td>2022-12-01</td>\n",
              "      <td>4</td>\n",
              "      <td>4</td>\n",
              "      <td>17</td>\n",
              "    </tr>\n",
              "  </tbody>\n",
              "</table>\n",
              "</div>"
            ],
            "text/plain": [
              "    Año  ID Cliente Tamaño de Cliente         Categoría  \\\n",
              "0  2022           1             MICRO  BEBIDAS DE FRUTA   \n",
              "1  2022           1             MICRO  BEBIDAS DE FRUTA   \n",
              "2  2022           1             MICRO             COLAS   \n",
              "3  2022           1             MICRO             COLAS   \n",
              "4  2022           1             MICRO             COLAS   \n",
              "\n",
              "                            Producto  Sum of Venta USD  Sum of Venta Cajas  \\\n",
              "0   JDV Nrja Choice 300ml NR Pet 12B             2.550                 1.0   \n",
              "1  JDV Nrja Choice 950 ml NR Pet 12B             3.345                 2.0   \n",
              "2        Coca-Cola 300 ml NR Pet 12B             7.185                 1.0   \n",
              "3    Coca-Cola E 1.35 Lts NR Pet 12B             9.690                 2.0   \n",
              "4            Coca-Cola E 3 Lts NR 6B            19.050                 4.0   \n",
              "\n",
              "   Mes_num      Fecha  Tamaño de Cliente_encoded  Categoría_encoded  \\\n",
              "0       12 2022-12-01                          4                  2   \n",
              "1       12 2022-12-01                          4                  2   \n",
              "2       12 2022-12-01                          4                  4   \n",
              "3       12 2022-12-01                          4                  4   \n",
              "4       12 2022-12-01                          4                  4   \n",
              "\n",
              "   Producto_encoded  \n",
              "0               150  \n",
              "1               152  \n",
              "2                 5  \n",
              "3                10  \n",
              "4                17  "
            ]
          },
          "execution_count": 50,
          "metadata": {},
          "output_type": "execute_result"
        }
      ],
      "source": [
        "df.head()"
      ]
    },
    {
      "cell_type": "code",
      "execution_count": 51,
      "metadata": {
        "colab": {
          "base_uri": "https://localhost:8080/"
        },
        "id": "blBDivCLl4kQ",
        "outputId": "b94479e9-b609-4db9-d3b9-571c555c0db8"
      },
      "outputs": [
        {
          "name": "stdout",
          "output_type": "stream",
          "text": [
            "     Tamaño de Cliente  Tamaño de Cliente_encoded\n",
            "0                MICRO                          4\n",
            "13             MEDIANO                          3\n",
            "229              CHICO                          0\n",
            "1816            GRANDE                          2\n",
            "3643           EXT-GDE                          1\n",
            "               Categoría  Categoría_encoded\n",
            "0       BEBIDAS DE FRUTA                  2\n",
            "2                  COLAS                  4\n",
            "8             ISOTÓNICOS                  5\n",
            "9                SABORES                  6\n",
            "13       AGUA PURIFICADA                  1\n",
            "70                    TÉ                  7\n",
            "109  BEBIDAS ENERGETICAS                  3\n",
            "329         AGUA MINERAL                  0\n",
            "                            Producto  Producto_encoded\n",
            "0   JDV Nrja Choice 300ml NR Pet 12B               150\n",
            "1  JDV Nrja Choice 950 ml NR Pet 12B               152\n",
            "2        Coca-Cola 300 ml NR Pet 12B                 5\n",
            "3    Coca-Cola E 1.35 Lts NR Pet 12B                10\n",
            "4            Coca-Cola E 3 Lts NR 6B                17\n"
          ]
        }
      ],
      "source": [
        "print(df[[\"Tamaño de Cliente\", \"Tamaño de Cliente_encoded\"]].drop_duplicates())\n",
        "print(df[[\"Categoría\", \"Categoría_encoded\"]].drop_duplicates())\n",
        "print(df[[\"Producto\", \"Producto_encoded\"]].head())\n"
      ]
    },
    {
      "cell_type": "code",
      "execution_count": 52,
      "metadata": {
        "id": "EfXeBknfQxbq"
      },
      "outputs": [],
      "source": [
        "df1=df.copy()"
      ]
    },
    {
      "cell_type": "code",
      "execution_count": 53,
      "metadata": {
        "id": "Vkyf1qnku32l"
      },
      "outputs": [],
      "source": [
        "df.drop([\"Tamaño de Cliente\", \"Categoría\", \"Producto\"], axis=1, inplace=True)"
      ]
    },
    {
      "cell_type": "code",
      "execution_count": 54,
      "metadata": {
        "colab": {
          "base_uri": "https://localhost:8080/"
        },
        "id": "RlL0rtXIu7KP",
        "outputId": "162ee39a-645c-49ec-cb30-a71e6aa4d2cb"
      },
      "outputs": [
        {
          "name": "stdout",
          "output_type": "stream",
          "text": [
            "<class 'pandas.core.frame.DataFrame'>\n",
            "RangeIndex: 3001296 entries, 0 to 3001295\n",
            "Data columns (total 9 columns):\n",
            " #   Column                     Dtype         \n",
            "---  ------                     -----         \n",
            " 0   Año                        int64         \n",
            " 1   ID Cliente                 int64         \n",
            " 2   Sum of Venta USD           float64       \n",
            " 3   Sum of Venta Cajas         float64       \n",
            " 4   Mes_num                    int64         \n",
            " 5   Fecha                      datetime64[ns]\n",
            " 6   Tamaño de Cliente_encoded  int64         \n",
            " 7   Categoría_encoded          int64         \n",
            " 8   Producto_encoded           int64         \n",
            "dtypes: datetime64[ns](1), float64(2), int64(6)\n",
            "memory usage: 206.1 MB\n"
          ]
        }
      ],
      "source": [
        "df.info()"
      ]
    },
    {
      "cell_type": "markdown",
      "metadata": {
        "id": "gRD-BwpZz29O"
      },
      "source": [
        "## 1️⃣ Reto de Diversificación —\n",
        "Objetivo: Detectar clientes que compran de pocas categorías y proponerles categorías nuevas.\n",
        "\n",
        "Recomendar 1 producto por categoría poco comprada de acuerdo con lo que han comprado clientes similares.\n",
        "\n",
        "\n",
        "\n",
        "Recomendación basada en clientes similares (Collaborative Filtering)"
      ]
    },
    {
      "cell_type": "markdown",
      "metadata": {
        "id": "jcKM9FwEP_9p"
      },
      "source": [
        "Usa comportamientos de clientes similares.\n",
        "\n",
        "Incentiva la diversificación inteligente, no aleatoria, ni la mas minima, sino de entre las bajas la que tiene mayor posibilidad de ser comprada en base a comportamiento de similares.\n",
        "\n",
        "Se adapta dinámicamente a nuevos productos y categorías."
      ]
    },
    {
      "cell_type": "code",
      "execution_count": 56,
      "metadata": {},
      "outputs": [
        {
          "name": "stdout",
          "output_type": "stream",
          "text": [
            "      ID Cliente  Producto_encoded  Categoría_encoded  Cantidad_sugerida\n",
            "0           3886               128                  7           1.605594\n",
            "1           8190               158                  3           1.186803\n",
            "2           1262                69                  0           2.471363\n",
            "3           7007               171                  5           1.186803\n",
            "4           3575               128                  7           1.605594\n",
            "...          ...               ...                ...                ...\n",
            "8323        5790               152                  2           1.570079\n",
            "8324        6052               152                  2           1.570079\n",
            "8325        6369                17                  4           4.915859\n",
            "8326        7206                17                  4           4.915859\n",
            "8327        7258               152                  2           1.570079\n",
            "\n",
            "[8328 rows x 4 columns]\n"
          ]
        }
      ],
      "source": [
        "import pandas as pd\n",
        "import numpy as np\n",
        "from sklearn.tree import DecisionTreeRegressor\n",
        "\n",
        "# Supongamos que ya tienes tu DataFrame completo cargado en `df`\n",
        "df = df  # Usa solo los primeros 50 registros\n",
        "\n",
        "# Paso 1: identificar categorías menos compradas por cliente\n",
        "categoria_cliente = df.groupby(['ID Cliente', 'Categoría_encoded'])['Sum of Venta Cajas'].sum().reset_index()\n",
        "total_por_cliente = categoria_cliente.groupby('ID Cliente')['Sum of Venta Cajas'].sum().reset_index()\n",
        "total_por_cliente.rename(columns={'Sum of Venta Cajas': 'TotalCliente'}, inplace=True)\n",
        "categoria_cliente = categoria_cliente.merge(total_por_cliente, on='ID Cliente')\n",
        "categoria_cliente['Porcentaje'] = categoria_cliente['Sum of Venta Cajas'] / categoria_cliente['TotalCliente']\n",
        "\n",
        "# Seleccionamos categoría menos comprada por cada cliente\n",
        "categoria_baja = categoria_cliente.sort_values('Porcentaje').groupby('ID Cliente').head(1)\n",
        "\n",
        "# Paso 2: producto más vendido dentro de esa categoría\n",
        "ventas_prod = df.groupby(['Categoría_encoded', 'Producto_encoded'])['Sum of Venta Cajas'].sum().reset_index()\n",
        "top_productos = ventas_prod.sort_values(['Categoría_encoded', 'Sum of Venta Cajas'], ascending=[True, False])\n",
        "top_productos = top_productos.drop_duplicates('Categoría_encoded')\n",
        "\n",
        "# Paso 3: unir cliente con su categoría baja y el top producto\n",
        "base_recomendacion = categoria_baja.merge(top_productos, on='Categoría_encoded', suffixes=('', '_producto'))\n",
        "\n",
        "# Paso 4: entrenar modelo simple para predecir cantidad sugerida\n",
        "features = df[['Producto_encoded', 'Categoría_encoded', 'Tamaño de Cliente_encoded', 'Mes_num']]\n",
        "target = df['Sum of Venta Cajas']\n",
        "\n",
        "modelo = DecisionTreeRegressor(max_depth=5, random_state=42)\n",
        "modelo.fit(features, target)\n",
        "\n",
        "# Paso 5: generar recomendaciones\n",
        "input_pred = base_recomendacion[['Producto_encoded', 'Categoría_encoded', 'ID Cliente']].copy()\n",
        "input_pred = input_pred.merge(df[['ID Cliente', 'Mes_num', 'Tamaño de Cliente_encoded']].drop_duplicates('ID Cliente'), on='ID Cliente', how='left')\n",
        "input_pred_features = input_pred[['Producto_encoded', 'Categoría_encoded', 'Tamaño de Cliente_encoded', 'Mes_num']]\n",
        "input_pred['Cantidad_sugerida'] = modelo.predict(input_pred_features)\n",
        "\n",
        "# Resultado final\n",
        "recomendaciones = input_pred[['ID Cliente', 'Producto_encoded', 'Categoría_encoded', 'Cantidad_sugerida']]\n",
        "print(recomendaciones)\n"
      ]
    },
    {
      "cell_type": "code",
      "execution_count": 60,
      "metadata": {},
      "outputs": [],
      "source": [
        "matriz_cp_2 = df.pivot_table(\n",
        "    index='ID Cliente',\n",
        "    columns='Categoría_encoded',\n",
        "    values='Sum of Venta Cajas',\n",
        "    aggfunc='sum',\n",
        "    fill_value=0\n",
        ")"
      ]
    },
    {
      "cell_type": "code",
      "execution_count": 63,
      "metadata": {},
      "outputs": [
        {
          "name": "stdout",
          "output_type": "stream",
          "text": [
            "Categoría_encoded    0    1     2    3     4     5     6    7\n",
            "ID Cliente                                                   \n",
            "3575               0.0  4.0  12.0  5.0  39.0  13.0  30.0  0.0\n"
          ]
        }
      ],
      "source": [
        "print(matriz_cp_2.loc[[3575]])  # doble corchete devuelve un DataFrame\n"
      ]
    },
    {
      "cell_type": "code",
      "execution_count": 30,
      "metadata": {},
      "outputs": [
        {
          "name": "stdout",
          "output_type": "stream",
          "text": [
            "Categoría_encoded\n",
            "0      0.0\n",
            "1      3.0\n",
            "2     10.0\n",
            "3      0.0\n",
            "4    227.0\n",
            "5     17.0\n",
            "6     60.0\n",
            "7      0.0\n",
            "Name: 1, dtype: float64\n"
          ]
        }
      ],
      "source": [
        "cliente = matriz_cp_2.loc[1]\n",
        "print(cliente)"
      ]
    },
    {
      "cell_type": "code",
      "execution_count": 79,
      "metadata": {},
      "outputs": [
        {
          "data": {
            "text/html": [
              "<div>\n",
              "<style scoped>\n",
              "    .dataframe tbody tr th:only-of-type {\n",
              "        vertical-align: middle;\n",
              "    }\n",
              "\n",
              "    .dataframe tbody tr th {\n",
              "        vertical-align: top;\n",
              "    }\n",
              "\n",
              "    .dataframe thead th {\n",
              "        text-align: right;\n",
              "    }\n",
              "</style>\n",
              "<table border=\"1\" class=\"dataframe\">\n",
              "  <thead>\n",
              "    <tr style=\"text-align: right;\">\n",
              "      <th></th>\n",
              "      <th>ID Cliente</th>\n",
              "      <th>Producto_encoded</th>\n",
              "      <th>Categoría_encoded</th>\n",
              "      <th>Cantidad_sugerida</th>\n",
              "    </tr>\n",
              "  </thead>\n",
              "  <tbody>\n",
              "    <tr>\n",
              "      <th>0</th>\n",
              "      <td>3886</td>\n",
              "      <td>Fuze Tea Negro 3.0 1L NR Pet 6B</td>\n",
              "      <td>7</td>\n",
              "      <td>1.605594</td>\n",
              "    </tr>\n",
              "    <tr>\n",
              "      <th>1</th>\n",
              "      <td>8190</td>\n",
              "      <td>Monster Lata 473 ml 4B</td>\n",
              "      <td>3</td>\n",
              "      <td>1.186803</td>\n",
              "    </tr>\n",
              "    <tr>\n",
              "      <th>2</th>\n",
              "      <td>1262</td>\n",
              "      <td>Dasani Mineralizada 500 ml NR Pet 12B</td>\n",
              "      <td>0</td>\n",
              "      <td>2.471363</td>\n",
              "    </tr>\n",
              "    <tr>\n",
              "      <th>3</th>\n",
              "      <td>7007</td>\n",
              "      <td>Powerade Mora Azul 1L NR Pet 6B</td>\n",
              "      <td>5</td>\n",
              "      <td>1.186803</td>\n",
              "    </tr>\n",
              "    <tr>\n",
              "      <th>4</th>\n",
              "      <td>3575</td>\n",
              "      <td>Fuze Tea Negro 3.0 1L NR Pet 6B</td>\n",
              "      <td>7</td>\n",
              "      <td>1.605594</td>\n",
              "    </tr>\n",
              "  </tbody>\n",
              "</table>\n",
              "</div>"
            ],
            "text/plain": [
              "   ID Cliente                       Producto_encoded  Categoría_encoded  \\\n",
              "0        3886        Fuze Tea Negro 3.0 1L NR Pet 6B                  7   \n",
              "1        8190                 Monster Lata 473 ml 4B                  3   \n",
              "2        1262  Dasani Mineralizada 500 ml NR Pet 12B                  0   \n",
              "3        7007        Powerade Mora Azul 1L NR Pet 6B                  5   \n",
              "4        3575        Fuze Tea Negro 3.0 1L NR Pet 6B                  7   \n",
              "\n",
              "   Cantidad_sugerida  \n",
              "0           1.605594  \n",
              "1           1.186803  \n",
              "2           2.471363  \n",
              "3           1.186803  \n",
              "4           1.605594  "
            ]
          },
          "execution_count": 79,
          "metadata": {},
          "output_type": "execute_result"
        }
      ],
      "source": [
        "recomendaciones.head()"
      ]
    },
    {
      "cell_type": "code",
      "execution_count": 78,
      "metadata": {},
      "outputs": [
        {
          "name": "stderr",
          "output_type": "stream",
          "text": [
            "C:\\Users\\Magda\\AppData\\Local\\Temp\\ipykernel_26148\\1275671036.py:1: SettingWithCopyWarning: \n",
            "A value is trying to be set on a copy of a slice from a DataFrame.\n",
            "Try using .loc[row_indexer,col_indexer] = value instead\n",
            "\n",
            "See the caveats in the documentation: https://pandas.pydata.org/pandas-docs/stable/user_guide/indexing.html#returning-a-view-versus-a-copy\n",
            "  recomendaciones['Producto_encoded']=le_prod.inverse_transform(recomendaciones['Producto_encoded'].astype(int))\n"
          ]
        }
      ],
      "source": [
        "recomendaciones['Producto_encoded']=le_prod.inverse_transform(recomendaciones['Producto_encoded'].astype(int))"
      ]
    },
    {
      "cell_type": "code",
      "execution_count": 80,
      "metadata": {},
      "outputs": [
        {
          "name": "stderr",
          "output_type": "stream",
          "text": [
            "C:\\Users\\Magda\\AppData\\Local\\Temp\\ipykernel_26148\\2151824213.py:1: SettingWithCopyWarning: \n",
            "A value is trying to be set on a copy of a slice from a DataFrame.\n",
            "Try using .loc[row_indexer,col_indexer] = value instead\n",
            "\n",
            "See the caveats in the documentation: https://pandas.pydata.org/pandas-docs/stable/user_guide/indexing.html#returning-a-view-versus-a-copy\n",
            "  recomendaciones['Categoría_encoded']=le_prod.inverse_transform(recomendaciones['Categoría_encoded'].astype(int))\n"
          ]
        }
      ],
      "source": [
        "recomendaciones['Categoría_encoded']=le_prod.inverse_transform(recomendaciones['Categoría_encoded'].astype(int))"
      ]
    },
    {
      "cell_type": "code",
      "execution_count": 82,
      "metadata": {},
      "outputs": [
        {
          "name": "stderr",
          "output_type": "stream",
          "text": [
            "C:\\Users\\Magda\\AppData\\Local\\Temp\\ipykernel_26148\\1230279117.py:1: SettingWithCopyWarning: \n",
            "A value is trying to be set on a copy of a slice from a DataFrame.\n",
            "Try using .loc[row_indexer,col_indexer] = value instead\n",
            "\n",
            "See the caveats in the documentation: https://pandas.pydata.org/pandas-docs/stable/user_guide/indexing.html#returning-a-view-versus-a-copy\n",
            "  recomendaciones['Cantidad_sugerida']=np.ceil(recomendaciones['Cantidad_sugerida'])\n"
          ]
        }
      ],
      "source": [
        "recomendaciones['Cantidad_sugerida']=np.ceil(recomendaciones['Cantidad_sugerida'])"
      ]
    },
    {
      "cell_type": "code",
      "execution_count": 83,
      "metadata": {},
      "outputs": [
        {
          "data": {
            "text/html": [
              "<div>\n",
              "<style scoped>\n",
              "    .dataframe tbody tr th:only-of-type {\n",
              "        vertical-align: middle;\n",
              "    }\n",
              "\n",
              "    .dataframe tbody tr th {\n",
              "        vertical-align: top;\n",
              "    }\n",
              "\n",
              "    .dataframe thead th {\n",
              "        text-align: right;\n",
              "    }\n",
              "</style>\n",
              "<table border=\"1\" class=\"dataframe\">\n",
              "  <thead>\n",
              "    <tr style=\"text-align: right;\">\n",
              "      <th></th>\n",
              "      <th>ID Cliente</th>\n",
              "      <th>Producto_encoded</th>\n",
              "      <th>Categoría_encoded</th>\n",
              "      <th>Cantidad_sugerida</th>\n",
              "    </tr>\n",
              "  </thead>\n",
              "  <tbody>\n",
              "    <tr>\n",
              "      <th>0</th>\n",
              "      <td>3886</td>\n",
              "      <td>Fuze Tea Negro 3.0 1L NR Pet 6B</td>\n",
              "      <td>Coca-Cola 300 ml Ret Vid 24B (V)</td>\n",
              "      <td>2.0</td>\n",
              "    </tr>\n",
              "    <tr>\n",
              "      <th>1</th>\n",
              "      <td>8190</td>\n",
              "      <td>Monster Lata 473 ml 4B</td>\n",
              "      <td>Coca Cola S/A 2Lts Ret Pet 9B</td>\n",
              "      <td>2.0</td>\n",
              "    </tr>\n",
              "    <tr>\n",
              "      <th>2</th>\n",
              "      <td>1262</td>\n",
              "      <td>Dasani Mineralizada 500 ml NR Pet 12B</td>\n",
              "      <td>COCA COLA KAIZEN LATA 350ML 6B</td>\n",
              "      <td>3.0</td>\n",
              "    </tr>\n",
              "    <tr>\n",
              "      <th>3</th>\n",
              "      <td>7007</td>\n",
              "      <td>Powerade Mora Azul 1L NR Pet 6B</td>\n",
              "      <td>Coca-Cola 300 ml NR Pet 12B</td>\n",
              "      <td>2.0</td>\n",
              "    </tr>\n",
              "    <tr>\n",
              "      <th>4</th>\n",
              "      <td>3575</td>\n",
              "      <td>Fuze Tea Negro 3.0 1L NR Pet 6B</td>\n",
              "      <td>Coca-Cola 300 ml Ret Vid 24B (V)</td>\n",
              "      <td>2.0</td>\n",
              "    </tr>\n",
              "  </tbody>\n",
              "</table>\n",
              "</div>"
            ],
            "text/plain": [
              "   ID Cliente                       Producto_encoded  \\\n",
              "0        3886        Fuze Tea Negro 3.0 1L NR Pet 6B   \n",
              "1        8190                 Monster Lata 473 ml 4B   \n",
              "2        1262  Dasani Mineralizada 500 ml NR Pet 12B   \n",
              "3        7007        Powerade Mora Azul 1L NR Pet 6B   \n",
              "4        3575        Fuze Tea Negro 3.0 1L NR Pet 6B   \n",
              "\n",
              "                  Categoría_encoded  Cantidad_sugerida  \n",
              "0  Coca-Cola 300 ml Ret Vid 24B (V)                2.0  \n",
              "1     Coca Cola S/A 2Lts Ret Pet 9B                2.0  \n",
              "2    COCA COLA KAIZEN LATA 350ML 6B                3.0  \n",
              "3       Coca-Cola 300 ml NR Pet 12B                2.0  \n",
              "4  Coca-Cola 300 ml Ret Vid 24B (V)                2.0  "
            ]
          },
          "execution_count": 83,
          "metadata": {},
          "output_type": "execute_result"
        }
      ],
      "source": [
        "recomendaciones.head()"
      ]
    },
    {
      "cell_type": "code",
      "execution_count": 85,
      "metadata": {},
      "outputs": [],
      "source": [
        "recomendaciones.to_csv('nuevo1.csv')"
      ]
    },
    {
      "cell_type": "code",
      "execution_count": 88,
      "metadata": {},
      "outputs": [
        {
          "data": {
            "text/plain": [
              "ID Cliente           8328\n",
              "Producto_encoded        8\n",
              "Categoría_encoded       8\n",
              "Cantidad_sugerida       7\n",
              "dtype: int64"
            ]
          },
          "execution_count": 88,
          "metadata": {},
          "output_type": "execute_result"
        }
      ],
      "source": [
        "recomendaciones.nunique()"
      ]
    },
    {
      "cell_type": "markdown",
      "metadata": {},
      "source": []
    },
    {
      "cell_type": "markdown",
      "metadata": {},
      "source": [
        "# MODELO ACTIVACION"
      ]
    },
    {
      "cell_type": "markdown",
      "metadata": {},
      "source": []
    },
    {
      "cell_type": "code",
      "execution_count": 72,
      "metadata": {},
      "outputs": [
        {
          "name": "stdout",
          "output_type": "stream",
          "text": [
            "   ID Cliente  riesgo_abandono reto_personalizado\n",
            "0           1                0     Cliente activo\n",
            "1           2                0     Cliente activo\n",
            "2           3                0     Cliente activo\n",
            "3           4                0     Cliente activo\n",
            "4           5                0     Cliente activo\n"
          ]
        }
      ],
      "source": [
        "import pandas as pd\n",
        "import numpy as np\n",
        "from sklearn.ensemble import RandomForestClassifier\n",
        "from sklearn.model_selection import train_test_split\n",
        "from sklearn.metrics import classification_report\n",
        "\n",
        "\n",
        "\n",
        "\n",
        "df = df\n",
        "\n",
        "# ------------------------\n",
        "# CREAR VARIABLES DERIVADAS\n",
        "# ------------------------\n",
        "\n",
        "# Última compra por cliente\n",
        "ultima_compra = df.groupby(\"ID Cliente\")[\"Fecha\"].max().reset_index()\n",
        "ultima_compra[\"Dias_desde_ultima_compra\"] = (df[\"Fecha\"].max() - ultima_compra[\"Fecha\"]).dt.days\n",
        "\n",
        "# Frecuencia: cuántos meses diferentes ha comprado\n",
        "frecuencia = df.groupby(\"ID Cliente\")[\"Mes_num\"].nunique().reset_index()\n",
        "frecuencia.rename(columns={\"Mes_num\": \"Frecuencia_meses_activos\"}, inplace=True)\n",
        "\n",
        "# Compras en los últimos 3 meses\n",
        "tres_meses_atras = df[\"Fecha\"].max() - pd.Timedelta(days=90)\n",
        "ultimos_3m = df[df[\"Fecha\"] >= tres_meses_atras].groupby(\"ID Cliente\")[\"Sum of Venta Cajas\"].count().reset_index()\n",
        "ultimos_3m.rename(columns={\"Sum of Venta Cajas\": \"Compras_ultimos_3_meses\"}, inplace=True)\n",
        "\n",
        "# Tamaño de cliente\n",
        "tamaño_cliente = df.groupby(\"ID Cliente\")[[\"Tamaño de Cliente_encoded\"]].first().reset_index()\n",
        "\n",
        "\n",
        "\n",
        "churn_df = ultima_compra.merge(frecuencia, on=\"ID Cliente\", how=\"left\") \\\n",
        "                        .merge(ultimos_3m, on=\"ID Cliente\", how=\"left\") \\\n",
        "                        .merge(tamaño_cliente, on=\"ID Cliente\", how=\"left\")\n",
        "\n",
        "churn_df[\"Compras_ultimos_3_meses\"] = churn_df[\"Compras_ultimos_3_meses\"].fillna(0)\n",
        "\n",
        "# ------------------------\n",
        "# ETIQUETA DE ABANDONO (churn = 1 si hay riesgo)\n",
        "# ------------------------\n",
        "\n",
        "churn_df[\"churn\"] = np.where(\n",
        "    (churn_df[\"Dias_desde_ultima_compra\"] > 30) &\n",
        "    (churn_df[\"Frecuencia_meses_activos\"] < 4) &\n",
        "    (churn_df[\"Compras_ultimos_3_meses\"] < 3),\n",
        "    1, 0\n",
        ")\n",
        "\n",
        "# ------------------------\n",
        "# ENTRENAR MODELO DE CLASIFICACIÓN\n",
        "# ------------------------\n",
        "\n",
        "X = churn_df[[\"Dias_desde_ultima_compra\", \"Frecuencia_meses_activos\", \"Compras_ultimos_3_meses\", \"Tamaño de Cliente_encoded\"]]\n",
        "y = churn_df[\"churn\"]\n",
        "\n",
        "X_train, X_test, y_train, y_test = train_test_split(X, y, test_size=0.2, random_state=42)\n",
        "\n",
        "modelo = RandomForestClassifier(n_estimators=100, random_state=42)\n",
        "modelo.fit(X_train, y_train)\n",
        "\n",
        "# Puedes evaluar el modelo si quieres\n",
        "# print(classification_report(y_test, modelo.predict(X_test)))\n",
        "\n",
        "# ------------------------\n",
        "# PREDICCIONES Y RETOS PERSONALIZADOS\n",
        "# ------------------------\n",
        "\n",
        "churn_df[\"riesgo_abandono\"] = modelo.predict(X)\n",
        "\n",
        "def generar_reto(row):\n",
        "    if row[\"riesgo_abandono\"] == 1:\n",
        "        if row[\"Dias_desde_ultima_compra\"] > 30:\n",
        "            return \"Vuelve esta semana y gana 500 puntos sorpresa\"\n",
        "        elif row[\"Frecuencia_meses_activos\"] < 4:\n",
        "            return \"Reto de regreso: compra cualquier categoría y recupera tu racha\"\n",
        "    return \"Cliente activo\"\n",
        "\n",
        "churn_df[\"reto_personalizado\"] = churn_df.apply(generar_reto, axis=1)\n",
        "\n",
        "# ------------------------\n",
        "# RESULTADO FINAL\n",
        "# ------------------------\n",
        "\n",
        "resultados = churn_df[[\"ID Cliente\", \"riesgo_abandono\", \"reto_personalizado\"]]\n",
        "print(resultados.head())\n",
        "\n",
        "# Opcional: guardar en archivo CSV\n",
        "# resultados.to_csv(\"clientes_con_riesgo_y_reto.csv\", index=False)\n",
        "\n"
      ]
    },
    {
      "cell_type": "markdown",
      "metadata": {
        "id": "kfkZAdHjDwtL"
      },
      "source": [
        "Objetivo: Predecir el volumen probable y fijar meta +10% o +20%."
      ]
    }
  ],
  "metadata": {
    "accelerator": "GPU",
    "colab": {
      "gpuType": "T4",
      "provenance": []
    },
    "kernelspec": {
      "display_name": "Python 3",
      "name": "python3"
    },
    "language_info": {
      "codemirror_mode": {
        "name": "ipython",
        "version": 3
      },
      "file_extension": ".py",
      "mimetype": "text/x-python",
      "name": "python",
      "nbconvert_exporter": "python",
      "pygments_lexer": "ipython3",
      "version": "3.11.0"
    }
  },
  "nbformat": 4,
  "nbformat_minor": 0
}
